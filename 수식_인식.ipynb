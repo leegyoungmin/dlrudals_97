{
  "nbformat": 4,
  "nbformat_minor": 0,
  "metadata": {
    "colab": {
      "name": "수식 인식",
      "provenance": [],
      "collapsed_sections": [],
      "mount_file_id": "1294gaTf0kisGJTeLW1MmZOapHg07o0s2",
      "authorship_tag": "ABX9TyNwgfjMCqh/WC6q9w4fgtm3"
    },
    "kernelspec": {
      "name": "python3",
      "display_name": "Python 3"
    },
    "accelerator": "GPU"
  },
  "cells": [
    {
      "cell_type": "markdown",
      "metadata": {
        "id": "KdCcg9rDIgsH"
      },
      "source": [
        "# Colaboratory Setting"
      ]
    },
    {
      "cell_type": "markdown",
      "metadata": {
        "id": "_U-GHVHcI-9v"
      },
      "source": [
        "## Drive mount"
      ]
    },
    {
      "cell_type": "markdown",
      "metadata": {
        "id": "aF6JIX8nJBye"
      },
      "source": [
        "## Tensorflow gpu setting"
      ]
    },
    {
      "cell_type": "markdown",
      "metadata": {
        "id": "Bz3led2DIrGm"
      },
      "source": [
        "# Import Module & Import Dataset"
      ]
    },
    {
      "cell_type": "markdown",
      "metadata": {
        "id": "o45s58rdI12m"
      },
      "source": [
        "Import Module"
      ]
    },
    {
      "cell_type": "code",
      "metadata": {
        "id": "puk8fhAYREwP",
        "colab": {
          "base_uri": "https://localhost:8080/"
        },
        "outputId": "21c9eab9-7eb3-491a-beea-096c109fa5ea"
      },
      "source": [
        "import numpy as np \r\n",
        "import pandas as pd \r\n",
        "import matplotlib.pyplot as plt\r\n",
        "import tensorflow.keras\r\n",
        "from tensorflow.keras.models import Sequential\r\n",
        "from tensorflow.keras.layers import Dense, Dropout, Flatten, Conv2D, MaxPooling2D\r\n",
        "import os\r\n",
        "import cv2\r\n",
        "from sklearn import preprocessing\r\n",
        "from pathlib import Path\r\n",
        "from PIL import Image\r\n",
        "import torch\r\n",
        "! pip install split-folders\r\n",
        "import splitfolders\r\n",
        "!pip install tqdm\r\n",
        "from tqdm import tqdm\r\n",
        "from tqdm import trange\r\n",
        "import time\r\n",
        "from sklearn.model_selection import train_test_split"
      ],
      "execution_count": null,
      "outputs": [
        {
          "output_type": "stream",
          "text": [
            "Requirement already satisfied: split-folders in /usr/local/lib/python3.6/dist-packages (0.4.3)\n",
            "Requirement already satisfied: tqdm in /usr/local/lib/python3.6/dist-packages (4.41.1)\n"
          ],
          "name": "stdout"
        }
      ]
    },
    {
      "cell_type": "code",
      "metadata": {
        "id": "RoZJsibabley"
      },
      "source": [
        "top_path='/content/drive/MyDrive/DeepLearning/math_symbols'\r\n",
        "symbols_list=os.listdir(top_path)"
      ],
      "execution_count": null,
      "outputs": []
    },
    {
      "cell_type": "markdown",
      "metadata": {
        "id": "4cbC0JJheIW5"
      },
      "source": [
        "### Import DataSet"
      ]
    },
    {
      "cell_type": "code",
      "metadata": {
        "id": "a5jGI4WpM4Qz"
      },
      "source": [
        "dataset_path='/content/drive/MyDrive/DeepLearning/math_symbols'\r\n",
        "example_image=[]\r\n",
        "example_label=[]\r\n",
        "\r\n",
        "for symbols_dir in os.listdir(dataset_path):\r\n",
        "    if symbols_dir.split()[0] in symbols_list:\r\n",
        "        for image in os.listdir(dataset_path+\"/\"+symbols_dir):\r\n",
        "            example_label.append(symbols_dir.split()[0])\r\n",
        "            example_image.append(dataset_path+\"/\"+symbols_dir+\"/\"+image)"
      ],
      "execution_count": null,
      "outputs": []
    },
    {
      "cell_type": "code",
      "metadata": {
        "id": "vhOAq8Tzd3_e",
        "colab": {
          "base_uri": "https://localhost:8080/"
        },
        "outputId": "a6aa852b-4b43-46f4-f437-0d0c3fc8d5b7"
      },
      "source": [
        "x=[]\r\n",
        "for path in tqdm(example_image):\r\n",
        "    img=cv2.imread(path)\r\n",
        "    img=cv2.resize(img,(100,100))\r\n",
        "    img=np.array(img)\r\n",
        "    x.append(img)"
      ],
      "execution_count": null,
      "outputs": [
        {
          "output_type": "stream",
          "text": [
            "100%|██████████| 65248/65248 [02:16<00:00, 479.46it/s]\n"
          ],
          "name": "stderr"
        }
      ]
    },
    {
      "cell_type": "code",
      "metadata": {
        "id": "s171JGfTkEL6"
      },
      "source": [
        "x_train,x_test,y_train,y_test=train_test_split(x,example_label,test_size=0.4,shuffle=False,random_state=1004)"
      ],
      "execution_count": null,
      "outputs": []
    },
    {
      "cell_type": "code",
      "metadata": {
        "id": "vCALmMcgkaE5"
      },
      "source": [
        "x_train=np.array(x_train)\r\n",
        "x_test=np.array(x_test)"
      ],
      "execution_count": null,
      "outputs": []
    },
    {
      "cell_type": "code",
      "metadata": {
        "id": "RxKH8_5wkquv",
        "colab": {
          "base_uri": "https://localhost:8080/"
        },
        "outputId": "e164b386-1cd0-4f9a-9e6d-d4fe80c92ce4"
      },
      "source": [
        "x_train=x_train.astype('float32')\r\n",
        "x_test=x_test.astype('float32')\r\n",
        "print(x_train.shape)\r\n",
        "print(x_test.shape)"
      ],
      "execution_count": null,
      "outputs": [
        {
          "output_type": "stream",
          "text": [
            "(39148, 100, 100, 3)\n",
            "(26100, 100, 100, 3)\n"
          ],
          "name": "stdout"
        }
      ]
    },
    {
      "cell_type": "code",
      "metadata": {
        "id": "IgLtr9DnPlgl"
      },
      "source": [
        "x_train /=255\r\n",
        "x_test /=255"
      ],
      "execution_count": null,
      "outputs": []
    },
    {
      "cell_type": "code",
      "metadata": {
        "id": "vHwVi8R7SyaO"
      },
      "source": [
        "label_encoder=preprocessing.LabelEncoder()\r\n",
        "y_train_temp=label_encoder.fit_transform(y_train)\r\n",
        "y_test_temp=label_encoder.fit_transform(y_test)"
      ],
      "execution_count": null,
      "outputs": []
    },
    {
      "cell_type": "code",
      "metadata": {
        "id": "ry-iFvV7TJk5"
      },
      "source": [
        "y_train=tensorflow.keras.utils.to_categorical(y_train_temp,82)\r\n",
        "y_test=tensorflow.keras.utils.to_categorical(y_test_temp,82)"
      ],
      "execution_count": null,
      "outputs": []
    },
    {
      "cell_type": "code",
      "metadata": {
        "id": "IPjN1xpxP1v9",
        "colab": {
          "base_uri": "https://localhost:8080/"
        },
        "outputId": "9b2df26b-0e4f-487a-beb2-eab5af21be1d"
      },
      "source": [
        "model=Sequential()\r\n",
        "\r\n",
        "model.add(Conv2D(32,(3,3),padding='same',input_shape=(100,100,3),activation='relu'))\r\n",
        "model.add(MaxPooling2D(pool_size=(2,2)))\r\n",
        "model.add(Dropout(0.25))\r\n",
        "\r\n",
        "model.add(Conv2D(64,(3,3),padding='same',input_shape=(100,100,3),activation='relu'))\r\n",
        "model.add(MaxPooling2D(pool_size=(2,2)))\r\n",
        "model.add(Dropout(0.25))\r\n",
        "\r\n",
        "model.add(Flatten())\r\n",
        "model.add(Dense(256,activation='relu'))\r\n",
        "model.add(Dropout(0.5))\r\n",
        "model.add(Dense(82,activation='softmax'))\r\n",
        "model.compile(\r\n",
        "    loss='categorical_crossentropy',\r\n",
        "    optimizer='adam',\r\n",
        "    metrics=['accuracy']\r\n",
        ")\r\n",
        "model.summary()"
      ],
      "execution_count": null,
      "outputs": [
        {
          "output_type": "stream",
          "text": [
            "Model: \"sequential\"\n",
            "_________________________________________________________________\n",
            "Layer (type)                 Output Shape              Param #   \n",
            "=================================================================\n",
            "conv2d (Conv2D)              (None, 100, 100, 32)      896       \n",
            "_________________________________________________________________\n",
            "max_pooling2d (MaxPooling2D) (None, 50, 50, 32)        0         \n",
            "_________________________________________________________________\n",
            "dropout (Dropout)            (None, 50, 50, 32)        0         \n",
            "_________________________________________________________________\n",
            "conv2d_1 (Conv2D)            (None, 50, 50, 64)        18496     \n",
            "_________________________________________________________________\n",
            "max_pooling2d_1 (MaxPooling2 (None, 25, 25, 64)        0         \n",
            "_________________________________________________________________\n",
            "dropout_1 (Dropout)          (None, 25, 25, 64)        0         \n",
            "_________________________________________________________________\n",
            "flatten (Flatten)            (None, 40000)             0         \n",
            "_________________________________________________________________\n",
            "dense (Dense)                (None, 256)               10240256  \n",
            "_________________________________________________________________\n",
            "dropout_2 (Dropout)          (None, 256)               0         \n",
            "_________________________________________________________________\n",
            "dense_1 (Dense)              (None, 82)                21074     \n",
            "=================================================================\n",
            "Total params: 10,280,722\n",
            "Trainable params: 10,280,722\n",
            "Non-trainable params: 0\n",
            "_________________________________________________________________\n"
          ],
          "name": "stdout"
        }
      ]
    },
    {
      "cell_type": "code",
      "metadata": {
        "id": "gYlFwS1vQlx-",
        "colab": {
          "base_uri": "https://localhost:8080/"
        },
        "outputId": "91c289f2-a850-4724-a8cb-214b242622de"
      },
      "source": [
        "history=model.fit(\r\n",
        "    x_train,\r\n",
        "    y_train,\r\n",
        "    batch_size=10,\r\n",
        "    epochs=100,\r\n",
        "    validation_split=0.25,\r\n",
        "    shuffle=True\r\n",
        ")"
      ],
      "execution_count": null,
      "outputs": [
        {
          "output_type": "stream",
          "text": [
            "Epoch 1/100\n"
          ],
          "name": "stdout"
        }
      ]
    },
    {
      "cell_type": "code",
      "metadata": {
        "id": "wl6y32PSVlL9"
      },
      "source": [
        "plt.plot(history.history['accuracy'],label='train',color='red')\r\n",
        "plt.plot(history.history['val_accuracy'],label='validation',color='blue')\r\n",
        "plt.show()"
      ],
      "execution_count": null,
      "outputs": []
    },
    {
      "cell_type": "code",
      "metadata": {
        "id": "WE0cR8rZVnRR"
      },
      "source": [
        "plt.plot(history.history['loss'], label='train', color=\"red\")\r\n",
        "plt.plot(history.history['val_loss'], label='validation', color=\"blue\")\r\n",
        "plt.title('Model loss')\r\n",
        "plt.legend(loc='upper left')\r\n",
        "plt.xlabel('epoch')\r\n",
        "plt.ylabel('loss')\r\n",
        "plt.show()"
      ],
      "execution_count": null,
      "outputs": []
    },
    {
      "cell_type": "code",
      "metadata": {
        "id": "3tHBLNw1VpOV"
      },
      "source": [
        "score,acc=model.evaluate(x_test,y_test)\r\n",
        "print(score)\r\n",
        "print(acc)"
      ],
      "execution_count": null,
      "outputs": []
    },
    {
      "cell_type": "code",
      "metadata": {
        "id": "ydUn7RYVVrep"
      },
      "source": [
        "score,acc=model.evaluate(x_train,y_train)\r\n",
        "print(score)\r\n",
        "print(acc)"
      ],
      "execution_count": null,
      "outputs": []
    },
    {
      "cell_type": "code",
      "metadata": {
        "id": "elpXGYlKVumv"
      },
      "source": [
        "pred=model.predict(x_test)\r\n",
        "pred"
      ],
      "execution_count": null,
      "outputs": []
    },
    {
      "cell_type": "code",
      "metadata": {
        "id": "vbiEh2qyiS_x"
      },
      "source": [
        "image=x_test[1]\r\n",
        "plt.imshow(image)"
      ],
      "execution_count": null,
      "outputs": []
    },
    {
      "cell_type": "code",
      "metadata": {
        "id": "ZA0mvcFfhfDF"
      },
      "source": [
        "x_test=np.array(x_test)"
      ],
      "execution_count": null,
      "outputs": []
    },
    {
      "cell_type": "code",
      "metadata": {
        "id": "ChxH699Gh35n"
      },
      "source": [
        "import matplotlib.image as mpimg"
      ],
      "execution_count": null,
      "outputs": []
    },
    {
      "cell_type": "code",
      "metadata": {
        "id": "KBbKaA1VfnJj"
      },
      "source": [
        "fig, axs = plt.subplots(2, 5, figsize=[24, 12])\r\n",
        "\r\n",
        "count=0\r\n",
        "\r\n",
        "for i in range(1,len(x_test)/1000):\r\n",
        "    image=x_test(i)\r\n",
        "    pred=model.predict(image)\r\n",
        "    result=np.argsort(pred)\r\n",
        "    final_label=label_encoder.inverse_transform(result)\r\n",
        "    axs[i].plt.imshow(image)\r\n",
        "    axs[i].set_title(str('prediction : '+final_label[i]))\r\n",
        "\r\n"
      ],
      "execution_count": null,
      "outputs": []
    }
  ]
}